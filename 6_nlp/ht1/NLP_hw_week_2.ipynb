{
  "cells": [
    {
      "cell_type": "markdown",
      "metadata": {
        "id": "N5tpTcbh9Y0S"
      },
      "source": [
        "# Homework: word-level embedding and query search engine\n",
        "\n",
        "Broadly speaking, your task will be to:\n",
        "- Train a fasttext model on War and Peace by Leo Tolstoy\n",
        "- Finetune (continue training) obtained embeddings using quora questions in order to account for new tokens and ever-changing semantic meaning\n",
        "- Embed existing quora questions and store them for later use\n",
        "- Implement a way to search the closest match among quora questions for an unseen text\n",
        "\n",
        "Good luck!"
      ]
    },
    {
      "cell_type": "markdown",
      "source": [
        "# Training initial embeddings (4 points)\n",
        "\n",
        "Your first task will be to train embeddings on War and Peace by Leo Tolstoy. using a word2vec extention called fasttext.\n",
        "\n",
        "There are certain differences with a vanilla word2vec, which you can read about [here](https://github.com/facebookresearch/fastText?tab=readme-ov-file), for example, but for all intents and purposes it is easier to treat fasttext as a word2vec on steroids.\n",
        "\n",
        "The most important difference, arguably, is that the model vocabulary is constructed not only using word-level tokens, but also their n-grams e.g. for a word \"peace\" the resulting tokens using 2-grams would look like (peace, pe, ea, ac, ce).\n",
        "\n",
        "This allows the model not only to handle out-of-vocabulary words by combining the corresponding subword tokens, but also to lift the need for word normalization (stemming, lemmatization) in some cases, preserving semantics in morphology-rich languages."
      ],
      "metadata": {
        "id": "X9wbkl1_K2pX"
      }
    },
    {
      "cell_type": "code",
      "source": [
        "!pip install unidecode\n",
        "!pip install faiss-cpu\n",
        "\n",
        "import re\n",
        "from typing import Union, List, Tuple, Callable\n",
        "\n",
        "import nltk\n",
        "import faiss\n",
        "import numpy as np\n",
        "from unidecode import unidecode\n",
        "from gensim.models import FastText\n",
        "from gensim.models.word2vec import PathLineSentences\n",
        "\n",
        "nltk.download('punkt_tab')\n",
        "\n",
        "# Set seed for reproducibility\n",
        "# Note that in order to do the computations trully determenistic\n",
        "# it is required to run the code using a sigle thread\n",
        "seed = 42"
      ],
      "metadata": {
        "id": "aQvA2lKuIH0I"
      },
      "execution_count": null,
      "outputs": []
    },
    {
      "cell_type": "markdown",
      "source": [
        "Load war and peace text file from Gutenberg project repository."
      ],
      "metadata": {
        "id": "bj_4h-PRfY73"
      }
    },
    {
      "cell_type": "code",
      "source": [
        "!wget \"https://www.gutenberg.org/files/2600/2600-0.txt\" -O war_and_peace_raw.txt"
      ],
      "metadata": {
        "colab": {
          "base_uri": "https://localhost:8080/"
        },
        "id": "xeZn-hIDKGsn",
        "outputId": "43189430-ca5c-4cbc-9242-cb09cba309e8"
      },
      "execution_count": 2,
      "outputs": [
        {
          "output_type": "stream",
          "name": "stdout",
          "text": [
            "--2024-11-21 01:23:22--  https://www.gutenberg.org/files/2600/2600-0.txt\n",
            "Resolving www.gutenberg.org (www.gutenberg.org)... 152.19.134.47, 2610:28:3090:3000:0:bad:cafe:47\n",
            "Connecting to www.gutenberg.org (www.gutenberg.org)|152.19.134.47|:443... connected.\n",
            "HTTP request sent, awaiting response... 200 OK\n",
            "Length: 3359405 (3.2M) [text/plain]\n",
            "Saving to: ‘war_and_peace_raw.txt’\n",
            "\n",
            "war_and_peace_raw.t 100%[===================>]   3.20M  12.2MB/s    in 0.3s    \n",
            "\n",
            "2024-11-21 01:23:22 (12.2 MB/s) - ‘war_and_peace_raw.txt’ saved [3359405/3359405]\n",
            "\n"
          ]
        }
      ]
    },
    {
      "cell_type": "code",
      "source": [
        "wap_raw_file_path = 'war_and_peace_raw.txt'\n",
        "wap_cleaned_file_path = 'war_and_peace_cleaned.txt'"
      ],
      "metadata": {
        "id": "3XzDrMW_K_al"
      },
      "execution_count": 3,
      "outputs": []
    },
    {
      "cell_type": "markdown",
      "source": [
        "Note that the text contains information redundant for the task, so we need to preprocess the file first."
      ],
      "metadata": {
        "id": "2oudD5cgf4HW"
      }
    },
    {
      "cell_type": "code",
      "source": [
        "!head war_and_peace_raw.txt"
      ],
      "metadata": {
        "colab": {
          "base_uri": "https://localhost:8080/"
        },
        "id": "JiOOgPlrf8d5",
        "outputId": "840fe778-87c4-4965-9a6d-9ae1437a72fe"
      },
      "execution_count": 4,
      "outputs": [
        {
          "output_type": "stream",
          "name": "stdout",
          "text": [
            "﻿The Project Gutenberg eBook of War and Peace, by Leo Tolstoy\r\n",
            "\r\n",
            "This eBook is for the use of anyone anywhere in the United States and\r\n",
            "most other parts of the world at no cost and with almost no restrictions\r\n",
            "whatsoever. You may copy it, give it away or re-use it under the terms\r\n",
            "of the Project Gutenberg License included with this eBook or online at\r\n",
            "www.gutenberg.org. If you are not located in the United States, you\r\n",
            "will have to check the laws of the country where you are located before\r\n",
            "using this eBook.\r\n",
            "\r\n"
          ]
        }
      ]
    },
    {
      "cell_type": "code",
      "source": [
        "# Load the text from the file\n",
        "with open(wap_raw_file_path, 'r', encoding='utf-8') as file:\n",
        "    text = file.read()\n",
        "\n",
        "# Remove the header and footer\n",
        "start_marker = \"*** START OF THE PROJECT GUTENBERG EBOOK WAR AND PEACE ***\"\n",
        "end_marker = \"*** END OF THE PROJECT GUTENBERG EBOOK WAR AND PEACE ***\"\n",
        "text = text.split(start_marker, 1)[-1]  # Remove everything before the start marker\n",
        "text = text.split(end_marker, 1)[0]     # Remove everything after the end marker\n",
        "\n",
        "# Split the text into lines and filter out unwanted ones\n",
        "lines = text.split(\"\\n\")\n",
        "filtered_lines = []\n",
        "for line in lines:\n",
        "    line = line.strip()\n",
        "    # Remove lines that are empty or contain chapter headers or non-content information\n",
        "    if not line or line.startswith(\"CHAPTER\") or line.isupper():\n",
        "        continue\n",
        "    filtered_lines.append(line)\n",
        "\n",
        "# Join the lines back into a single string\n",
        "cleaned_text = \"\\n\".join(filtered_lines[2:])"
      ],
      "metadata": {
        "id": "mAgEH8hTLMGZ"
      },
      "execution_count": 5,
      "outputs": []
    },
    {
      "cell_type": "markdown",
      "source": [
        "The text contains some non-ascii characters for historical reasons. One way to deal with it is to cast them to the closest ascii equivalent.\n",
        "\n",
        "Note that it is not always required and in some cases may affect the model performance in a bad way.\n",
        "\n",
        "*In short, if you feel that these characters are needed, leave them be.*"
      ],
      "metadata": {
        "id": "5dva_nQlg3tq"
      }
    },
    {
      "cell_type": "code",
      "source": [
        "# Normalize to ASCII\n",
        "cleaned_text_ascii = unidecode(cleaned_text)"
      ],
      "metadata": {
        "id": "xgYaB7n-Ljmv"
      },
      "execution_count": 6,
      "outputs": []
    },
    {
      "cell_type": "markdown",
      "source": [
        "Another important thing is to know your data and how the model trains its weights.\n",
        "\n",
        "In our case, word2vec (fasttext) processes the text line by line, traversing the line with a defined window to represent the context. However, the Gutenberg War and Peace text is split into lines in a somewhat arbitrary way, so that the words on a particular line may not necesserily belong to the same sentence and thus the context window will erroneously treat them as contextually-dependent.\n",
        "\n",
        "One way to fix it is to tokenize the text into sentences first. Luckily for us, the whole War and Peace text fits into the RAM."
      ],
      "metadata": {
        "id": "-TJGtNtghwki"
      }
    },
    {
      "cell_type": "code",
      "source": [
        "# Split into sentences\n",
        "sentences = nltk.sent_tokenize(cleaned_text_ascii)\n",
        "\n",
        "sentences[:10]"
      ],
      "metadata": {
        "colab": {
          "base_uri": "https://localhost:8080/"
        },
        "id": "R6joylcPhuxS",
        "outputId": "754e9154-c52f-471b-fce2-ff957e8c2a7c"
      },
      "execution_count": 7,
      "outputs": [
        {
          "output_type": "execute_result",
          "data": {
            "text/plain": [
              "['\"Well, Prince, so Genoa and Lucca are now just family estates of the\\nBuonapartes.',\n",
              " \"But I warn you, if you don't tell me that this means war,\\nif you still try to defend the infamies and horrors perpetrated by that\\nAntichrist--I really believe he is Antichrist--I will have nothing\\nmore to do with you and you are no longer my friend, no longer my\\n'faithful slave,' as you call yourself!\",\n",
              " 'But how do you do?',\n",
              " 'I see I\\nhave frightened you--sit down and tell me all the news.\"',\n",
              " 'It was in July, 1805, and the speaker was the well-known Anna Pavlovna\\nScherer, maid of honor and favorite of the Empress Marya Fedorovna.',\n",
              " 'With these words she greeted Prince Vasili Kuragin, a man of high\\nrank and importance, who was the first to arrive at her reception.',\n",
              " 'Anna\\nPavlovna had had a cough for some days.',\n",
              " 'She was, as she said, suffering\\nfrom la grippe; grippe being then a new word in St. Petersburg, used\\nonly by the elite.',\n",
              " 'All her invitations without exception, written in French, and delivered\\nby a scarlet-liveried footman that morning, ran as follows:\\n\"If you have nothing better to do, Count (or Prince), and if the\\nprospect of spending an evening with a poor invalid is not too terrible,\\nI shall be very charmed to see you tonight between 7 and 10--Annette\\nScherer.\"',\n",
              " '\"Heavens!']"
            ]
          },
          "metadata": {},
          "execution_count": 7
        }
      ]
    },
    {
      "cell_type": "markdown",
      "source": [
        "As you can see, there are many unwanted characters in each sentence: arbitrary newlines (\\n), double hyphens (--) etc.\n",
        "\n",
        "For the task at hand (learning fasttext embeddings), we might want to preprocess the text i.e. get rid of punctuation and redundant symbols, lowercase each word. We could also apply stemming or lemmatization, but fasttext gives us the freedom not to do so, preserving some morphology-related information."
      ],
      "metadata": {
        "id": "uvi9Je9ukb5k"
      }
    },
    {
      "cell_type": "code",
      "source": [
        "def clean_wap_sentence(sentence: str) -> str:\n",
        "    \"\"\"\n",
        "    Cleans a sentence by performing the following operations:\n",
        "    1. Replaces newline characters (`\\n`) with a space.\n",
        "    2. Replaces double hyphens (`--`) with a space.\n",
        "    3. Removes all punctuation except for apostrophes.\n",
        "    4. Converts the sentence to lowercase.\n",
        "\n",
        "    Args:\n",
        "        sentence (str): The input sentence to be cleaned.\n",
        "\n",
        "    Returns:\n",
        "        str: The cleaned sentence.\n",
        "    \"\"\"\n",
        "    <YOUR_CODE_HERE>\n",
        "\n",
        "    return sentence\n"
      ],
      "metadata": {
        "id": "SAS8gix8MmJx"
      },
      "execution_count": 8,
      "outputs": []
    },
    {
      "cell_type": "code",
      "source": [
        "# Preprocess each sentence\n",
        "processed_sentences = []\n",
        "\n",
        "for sentence in sentences:\n",
        "    <YOUR_CODE_HERE>\n",
        "\n",
        "# Join processed sentences with newlines to match expected gensim format\n",
        "final_text = \"\\n\".join(processed_sentences)\n",
        "\n",
        "with open(wap_cleaned_file_path, 'w') as outfile:\n",
        "    outfile.write(final_text)\n",
        "\n",
        "# Keep sentence count for gensim model parameter setting\n",
        "wap_sentences_count = len(processed_sentences)"
      ],
      "metadata": {
        "id": "xFtKcY1FLltn"
      },
      "execution_count": 9,
      "outputs": []
    },
    {
      "cell_type": "code",
      "source": [
        "# Take a look at what we obtained so far\n",
        "!sed -n 1,4p war_and_peace_cleaned.txt"
      ],
      "metadata": {
        "colab": {
          "base_uri": "https://localhost:8080/"
        },
        "id": "Y4OMLve2Nu29",
        "outputId": "fbe76b06-cb07-4a19-fc23-3382cf888867"
      },
      "execution_count": 10,
      "outputs": [
        {
          "output_type": "stream",
          "name": "stdout",
          "text": [
            "well prince so genoa and lucca are now just family estates of the buonapartes\n",
            "but i warn you if you don't tell me that this means war if you still try to defend the infamies and horrors perpetrated by that antichrist i really believe he is antichrist i will have nothing more to do with you and you are no longer my friend no longer my 'faithful slave' as you call yourself\n",
            "but how do you do\n",
            "i see i have frightened you sit down and tell me all the news\n"
          ]
        }
      ]
    },
    {
      "cell_type": "markdown",
      "source": [
        "Now that we have the preprocessed data, let's train our model at last!\n",
        "\n",
        "For this task we will use [Gensim's implementation](https://radimrehurek.com/gensim/models/fasttext.html) of Fasttext. It has a little overhead as compared to the [vanilla implementation](https://fasttext.cc/), but a really nice API which also supports finetuning existing models.\n",
        "\n",
        "\n",
        "**Please read carefully these notes in order to pass the tests:**\n",
        "0. Set the learning rate to 3e-2. Gensim's fasttextwill linearly decrease this value as epochs go on.\n",
        "1. You are free to experiment with the vector size,\n",
        "but know that it will drastically affect the performance.\n",
        "Values below 64 may result in embeddings to struggle to correctly represent the words.\n",
        "Values above 300 will slow you down and will likely not offer any compensation for that.\n",
        "We recommend a value of 100 to safely pass the test as a happy mean\n",
        "2. Be sure to use skip-gram mode. It usually gives a better semantic representation of the learned vectors at the expense of a relatively slow training.\n",
        "3. 5 epochs is likely enough for the amount of data you have, but feel free to experiment.\n",
        "4. Remember to set the seed, even though it will likely not make you model fully determenistic if you use more than one thread.\n",
        "5. Window size is an important parameter. The wider the window, the broader sentence-level context a given embedding captures at the expense of own semantic uniqueness. Feel free to experiment. The window size of 5 will likely be a good starting point to safely pass the assert wall.\n",
        "\n",
        "Note that we do not use any train\\test split. You, the human, is the ultimate referee for this task. If you feel that that the embeddings make sense (and they pass the test), then so be it."
      ],
      "metadata": {
        "id": "_uH0e8AMmxTM"
      }
    },
    {
      "cell_type": "code",
      "source": [
        "# Use PathLineSentence to stream data from the file\n",
        "wap_sentences = PathLineSentences(wap_cleaned_file_path)\n",
        "\n",
        "# Train the FastText model using Gensim\n",
        "model = <YOUR_CODE_HERE>\n",
        "\n",
        "model.save(\"wap_fasttext_model.bin\")"
      ],
      "metadata": {
        "id": "9K63bW7jVlJS"
      },
      "execution_count": 11,
      "outputs": []
    },
    {
      "cell_type": "markdown",
      "source": [
        "You can play around with the model you trained below."
      ],
      "metadata": {
        "id": "Ff7lhpvi82XM"
      }
    },
    {
      "cell_type": "code",
      "source": [
        "print(*model.wv.most_similar('peace', topn=10), sep='\\n')"
      ],
      "metadata": {
        "colab": {
          "base_uri": "https://localhost:8080/"
        },
        "id": "S8WtJNHJ37je",
        "outputId": "936e0ff3-81ad-4447-85b8-dc952b3010f0"
      },
      "execution_count": 12,
      "outputs": [
        {
          "output_type": "stream",
          "name": "stdout",
          "text": [
            "('endure', 0.8580781817436218)\n",
            "('failure', 0.8559691905975342)\n",
            "('source', 0.8493669629096985)\n",
            "('freedom', 0.8472211360931396)\n",
            "('possess', 0.8464798927307129)\n",
            "('arise', 0.8428733944892883)\n",
            "('encourage', 0.8408569693565369)\n",
            "('hope', 0.8401851058006287)\n",
            "('success', 0.839286744594574)\n",
            "('faith', 0.8383597731590271)\n"
          ]
        }
      ]
    },
    {
      "cell_type": "markdown",
      "source": [
        "Fasttext allows us to reconstruct out-of-vocabulary words using word n-grams..."
      ],
      "metadata": {
        "id": "2x-XkVDyqwpg"
      }
    },
    {
      "cell_type": "code",
      "source": [
        "'computation' in model.wv.key_to_index"
      ],
      "metadata": {
        "colab": {
          "base_uri": "https://localhost:8080/"
        },
        "id": "dkuCReZxq425",
        "outputId": "e95d1f46-bd95-415c-f592-8216fab137a8"
      },
      "execution_count": 13,
      "outputs": [
        {
          "output_type": "execute_result",
          "data": {
            "text/plain": [
              "False"
            ]
          },
          "metadata": {},
          "execution_count": 13
        }
      ]
    },
    {
      "cell_type": "markdown",
      "source": [
        "...even though they may be too far from the learned context."
      ],
      "metadata": {
        "id": "ESLUQDBMrRwr"
      }
    },
    {
      "cell_type": "code",
      "source": [
        "print(*model.wv.most_similar('computation', topn=10), sep='\\n')"
      ],
      "metadata": {
        "colab": {
          "base_uri": "https://localhost:8080/"
        },
        "id": "YBwOjSQZrA5k",
        "outputId": "9b6655ce-750a-4b5a-b3c3-e9a9b5a13062"
      },
      "execution_count": 14,
      "outputs": [
        {
          "output_type": "stream",
          "name": "stdout",
          "text": [
            "('consultation', 0.9750005006790161)\n",
            "('combination', 0.9707764387130737)\n",
            "('deputation', 0.9693651795387268)\n",
            "('subordination', 0.9676422476768494)\n",
            "('manifestation', 0.9660473465919495)\n",
            "('confirmation', 0.9654446244239807)\n",
            "('participation', 0.9653453826904297)\n",
            "('population', 0.9614249467849731)\n",
            "('gravitation', 0.9605057239532471)\n",
            "('situation', 0.9602699279785156)\n"
          ]
        }
      ]
    },
    {
      "cell_type": "code",
      "source": [
        "# Degugging area\n",
        "model_vocabulary = set(model.wv.key_to_index.keys())\n",
        "most_similar_to_peace = list(zip(*model.wv.most_similar('peace', topn=50)))[0]\n",
        "\n",
        "assert model.vector_size >= 64 and model.vector_size <= 300, 'Please check your embedding size.'\n",
        "assert model.sg == 1, 'Please use skip-gram method for consistency. Also, despite being faster, CBOW usually generates inferior word embeddings for rare words.'\n",
        "assert model.alpha == 3e-2, 'It is expected that you overwrite the default alpha for this task.'\n",
        "assert len(model_vocabulary) > 5500 and len(model_vocabulary) < 7500, 'There is something wrong with your tokenization. Check the pipeline and use a default *ngram=1*'\n",
        "assert 'religion' in most_similar_to_peace, 'Embeddings look odd. Make sure to follow instructions!'\n",
        "\n",
        "print('Congrats!')"
      ],
      "metadata": {
        "colab": {
          "base_uri": "https://localhost:8080/"
        },
        "id": "wB9bwgA53sFJ",
        "outputId": "0f045292-9ece-4cbd-bc32-db070ff98d8c"
      },
      "execution_count": 15,
      "outputs": [
        {
          "output_type": "stream",
          "name": "stdout",
          "text": [
            "Congrats!\n"
          ]
        }
      ]
    },
    {
      "cell_type": "markdown",
      "source": [
        "# Finetune using quora dataset (3 points)\n",
        "\n",
        "Now that we have embeddings representing the semantic space as was perceived by !Leo Tolstoy, let's move on to more up-to-date representations.\n",
        "\n",
        "One problem is that our model's vocabulary lacks knowledge about modern day words. Even though we can reconstruct said words using fasttext n-grams, they lack contextual meaning.\n",
        "Another problem is that the context in which certain words are used could have changed throughout the years.\n",
        "\n",
        "Hence, our task would be not to overwrite the learned vectors, but to enrich them with some fresh data."
      ],
      "metadata": {
        "id": "RB4k_ER8XYtJ"
      }
    },
    {
      "cell_type": "code",
      "source": [
        "# download the data\n",
        "!wget https://www.dropbox.com/s/obaitrix9jyu84r/quora.txt?dl=1 -O ./quora_raw.txt\n",
        "# alternative download link: https://yadi.sk/i/BPQrUu1NaTduEw"
      ],
      "metadata": {
        "colab": {
          "base_uri": "https://localhost:8080/"
        },
        "id": "hs7FKYp6Hl4b",
        "outputId": "2ce1348a-50d9-4843-f7ab-4e8c675517f4"
      },
      "execution_count": 16,
      "outputs": [
        {
          "output_type": "stream",
          "name": "stdout",
          "text": [
            "--2024-11-21 01:24:17--  https://www.dropbox.com/s/obaitrix9jyu84r/quora.txt?dl=1\n",
            "Resolving www.dropbox.com (www.dropbox.com)... 162.125.3.18, 2620:100:6018:18::a27d:312\n",
            "Connecting to www.dropbox.com (www.dropbox.com)|162.125.3.18|:443... connected.\n",
            "HTTP request sent, awaiting response... 302 Found\n",
            "Location: https://www.dropbox.com/scl/fi/p0t2dw6oqs6oxpd6zz534/quora.txt?rlkey=bjupppwua4zmd4elz8octecy9&dl=1 [following]\n",
            "--2024-11-21 01:24:18--  https://www.dropbox.com/scl/fi/p0t2dw6oqs6oxpd6zz534/quora.txt?rlkey=bjupppwua4zmd4elz8octecy9&dl=1\n",
            "Reusing existing connection to www.dropbox.com:443.\n",
            "HTTP request sent, awaiting response... 302 Found\n",
            "Location: https://ucd5063bb481f8b4f384c225fd93.dl.dropboxusercontent.com/cd/0/inline/CexfgI0XVqjGK3m-ZDd3DnDKA2-pST3dRzYpdPlOIgPbe5Rpf9Ag5QoBJWy4fwPgrDrX2fdtvx5v5FEd6koxzj3VDzDPEWWQguiJXfL70oPUkkq_nJYIXiodgRxKxEDLMPU/file?dl=1# [following]\n",
            "--2024-11-21 01:24:18--  https://ucd5063bb481f8b4f384c225fd93.dl.dropboxusercontent.com/cd/0/inline/CexfgI0XVqjGK3m-ZDd3DnDKA2-pST3dRzYpdPlOIgPbe5Rpf9Ag5QoBJWy4fwPgrDrX2fdtvx5v5FEd6koxzj3VDzDPEWWQguiJXfL70oPUkkq_nJYIXiodgRxKxEDLMPU/file?dl=1\n",
            "Resolving ucd5063bb481f8b4f384c225fd93.dl.dropboxusercontent.com (ucd5063bb481f8b4f384c225fd93.dl.dropboxusercontent.com)... 162.125.3.15, 2620:100:6019:15::a27d:40f\n",
            "Connecting to ucd5063bb481f8b4f384c225fd93.dl.dropboxusercontent.com (ucd5063bb481f8b4f384c225fd93.dl.dropboxusercontent.com)|162.125.3.15|:443... connected.\n",
            "HTTP request sent, awaiting response... 200 OK\n",
            "Length: 33813903 (32M) [application/binary]\n",
            "Saving to: ‘./quora_raw.txt’\n",
            "\n",
            "./quora_raw.txt     100%[===================>]  32.25M  77.4MB/s    in 0.4s    \n",
            "\n",
            "2024-11-21 01:24:19 (77.4 MB/s) - ‘./quora_raw.txt’ saved [33813903/33813903]\n",
            "\n"
          ]
        }
      ]
    },
    {
      "cell_type": "code",
      "source": [
        "# Glimpse at the quora dataset\n",
        "!sed -n 1,5p quora_raw.txt"
      ],
      "metadata": {
        "colab": {
          "base_uri": "https://localhost:8080/"
        },
        "id": "uBNa4AViHuxO",
        "outputId": "f4972313-c382-4bc8-a230-d5f02a93f4d1"
      },
      "execution_count": 17,
      "outputs": [
        {
          "output_type": "stream",
          "name": "stdout",
          "text": [
            "Can I get back with my ex even though she is pregnant with another guy's baby?\n",
            "What are some ways to overcome a fast food addiction?\n",
            "Who were the great Chinese soldiers and leaders who fought in WW2?\n",
            "What are ZIP codes in the Bay Area?\n",
            "Why was George RR Martin critical of JK Rowling after losing the Hugo award?\n"
          ]
        }
      ]
    },
    {
      "cell_type": "markdown",
      "source": [
        "As before, we need to standardize the data for training.\n",
        "\n",
        "Luckily for us, each line already consists of a complete sentence (even better, in ASCII!)."
      ],
      "metadata": {
        "id": "epNDC2bgsCqR"
      }
    },
    {
      "cell_type": "code",
      "source": [
        "# Define a function to preprocess a single line\n",
        "def preprocess_line(line: str) -> str:\n",
        "    \"\"\"\n",
        "    Preprocesses a single line of text by:\n",
        "    1. Removing all punctuation except apostrophes.\n",
        "    2. Converting the text to lowercase.\n",
        "\n",
        "    Args:\n",
        "        line (str): The input line of text to preprocess.\n",
        "\n",
        "    Returns:\n",
        "        str: The preprocessed line of text.\n",
        "    \"\"\"\n",
        "\n",
        "    <YOUR_CODE_HERE>\n",
        "\n",
        "    return line\n",
        "\n",
        "\n",
        "# Preprocess the text file line by line\n",
        "def preprocess_file(input_file_path: str, output_file_path: str) -> int:\n",
        "    \"\"\"\n",
        "    Reads a text file line by line, preprocesses each line,\n",
        "    and writes the preprocessed lines to a new file.\n",
        "\n",
        "    Args:\n",
        "        input_file_path (str): Path to the input text file.\n",
        "        output_file_path (str): Path to the output text file where preprocessed lines will be saved.\n",
        "\n",
        "    Returns:\n",
        "        int: The total number of lines processed in the input file.\n",
        "    \"\"\"\n",
        "\n",
        "    <YOUR_CODE_HERE>\n",
        "\n",
        "    return lines_processed\n",
        "\n",
        "\n",
        "# Paths to the input and output files\n",
        "quora_raw_file_path = 'quora_raw.txt'\n",
        "quora_processed_file_path = 'quora_processed.txt'\n",
        "\n",
        "# Preprocess the file and count the number of lines processed\n",
        "quora_sentences_count = preprocess_file(quora_raw_file_path, quora_processed_file_path)\n",
        "\n",
        "print(f'Lines processed: {quora_sentences_count}')\n"
      ],
      "metadata": {
        "colab": {
          "base_uri": "https://localhost:8080/"
        },
        "id": "EhGLucM6Hzp_",
        "outputId": "f58f5e24-5971-49f6-d60d-00187ff1e7e3"
      },
      "execution_count": 18,
      "outputs": [
        {
          "output_type": "stream",
          "name": "stdout",
          "text": [
            "Lines processed: 537272\n"
          ]
        }
      ]
    },
    {
      "cell_type": "markdown",
      "source": [
        "The catch here is that we continue trainining the model using a larger dataset with a pretty different thematics, so in order not to completely overwrite existing War and Peace \"vibe\" it may be a good idea to proceed at where we left off previously (learning rate-wise) and/or not to be too crazy about the number of epochs.  "
      ],
      "metadata": {
        "id": "sDq2kwWvx6V1"
      }
    },
    {
      "cell_type": "code",
      "source": [
        "# As before, use gensim's tools to iterate over the lines\n",
        "quora_sentences = PathLineSentences(quora_processed_file_path)\n",
        "\n",
        "# Load the model in order to finetune it\n",
        "finetuned_model = FastText.load(\"wap_fasttext_model.bin\")\n",
        "\n",
        "# Update existing vocabulary with the new sentences\n",
        "<YOUR_CODE_HERE>\n",
        "\n",
        "# Continue training the model on the new data\n",
        "# Remember to correctly pass the parameters\n",
        "<YOUR_CODE_HERE>\n",
        "\n",
        "finetuned_model.save(\"wap_quora_fasttext_model.bin\")"
      ],
      "metadata": {
        "id": "s848tJDOWw6m"
      },
      "execution_count": 19,
      "outputs": []
    },
    {
      "cell_type": "code",
      "source": [
        "finetuned_model_vocabulary = set(finetuned_model.wv.key_to_index.keys())\n",
        "new_words = finetuned_model_vocabulary - model_vocabulary\n",
        "\n",
        "print(\"Number of new words added:\", len(new_words))\n",
        "print(\"New words:\", list(new_words)[10:20])"
      ],
      "metadata": {
        "id": "t2fb7euXJe-u",
        "colab": {
          "base_uri": "https://localhost:8080/"
        },
        "outputId": "1c3acb73-6b1a-471d-d423-bd4e0317a999"
      },
      "execution_count": 20,
      "outputs": [
        {
          "output_type": "stream",
          "name": "stdout",
          "text": [
            "Number of new words added: 23878\n",
            "New words: ['tripadvisor', 'bowie', 'hrd', 'sasikala', 'traits', 'boss', 'yrs', 'popped', 'appstore', 'diver']\n"
          ]
        }
      ]
    },
    {
      "cell_type": "code",
      "source": [
        "def print_comparison(\n",
        "    model1: Union[FastText, None],\n",
        "    model2: Union[FastText, None],\n",
        "    word: str = 'peace',\n",
        "    top_n: int = 10\n",
        ") -> None:\n",
        "    \"\"\"\n",
        "    A utility function that compares the top-N most similar words for a given query word across two FastText models.\n",
        "    Prints the comparison in a tabular format to visually assess changes after finetuning.\n",
        "\n",
        "    Args:\n",
        "        model1 (FastText | None): The first FastText model (original or pre-finetuning).\n",
        "        model2 (FastText | None): The second FastText model (post-finetuning).\n",
        "        word (str, optional): The word for which similar words are retrieved.\n",
        "        top_n (int, optional): The number of top similar words to compare.\n",
        "\n",
        "    Returns:\n",
        "        None: Prints results directly to the console.\n",
        "    \"\"\"\n",
        "    q0 = model1.wv.most_similar(word, topn=top_n)\n",
        "    q1 = model2.wv.most_similar(word, topn=top_n)\n",
        "\n",
        "    # Print the header\n",
        "    print(f'Query: {word}\\n')\n",
        "    print(f\"{'pos':<5} {'model_1':<15} {'score_1':<10} {'model_2':<15} {'score_2':<10}\")\n",
        "    print(\"-\" * (5 + 15 + 10 + 15 + 10))\n",
        "\n",
        "    # Print each entry up to top_n\n",
        "    for pos, (word0, score0), (word1, score1) in zip(range(top_n), q0, q1):\n",
        "        # Format the scores to 4 decimal places\n",
        "        print(f\"{pos:<5} {word0:<15} {score0:.4f}     {word1:<15} {score1:.4f}\")\n"
      ],
      "metadata": {
        "id": "Lryyye8IG2X6"
      },
      "execution_count": 21,
      "outputs": []
    },
    {
      "cell_type": "code",
      "source": [
        "# Call the function to display results\n",
        "print_comparison(model, finetuned_model, word='war', top_n=10)"
      ],
      "metadata": {
        "colab": {
          "base_uri": "https://localhost:8080/"
        },
        "id": "-EpYIYHqIY0C",
        "outputId": "32b0e4c0-df85-4c15-e8e3-1caace5fdd97"
      },
      "execution_count": 22,
      "outputs": [
        {
          "output_type": "stream",
          "name": "stdout",
          "text": [
            "Query: war\n",
            "\n",
            "pos   model_1         score_1    model_2         score_2   \n",
            "-------------------------------------------------------\n",
            "0     campaign        0.8246     communication   0.9170\n",
            "1     communication   0.8218     warg            0.9153\n",
            "2     b               0.8195     abolition       0.9105\n",
            "3     consideration   0.8105     telecommunication 0.9095\n",
            "4     campaigns       0.8071     revolution      0.9091\n",
            "5     description     0.8068     consideration   0.9075\n",
            "6     revolution      0.8060     alliteration    0.9069\n",
            "7     affair          0.7937     capitalization  0.9060\n",
            "8     execution       0.7928     ministry        0.9059\n",
            "9     vital           0.7927     adulteration    0.9054\n"
          ]
        }
      ]
    },
    {
      "cell_type": "code",
      "source": [
        "# The usual assert wall for debugging and testing\n",
        "assert finetuned_model.alpha <= model.min_alpha, 'setting a learning rate too high will result in model forgetting previous information, especially when finetuning on a larger dataset!'\n",
        "assert len(new_words) > 20_000 and len(new_words) < 30_000, 'There is likely something wrong with your preprocessing pipeline. There must be more new words after finetuning!'\n",
        "assert 'religion' in list(zip(*finetuned_model.wv.most_similar('peace', topn=50)))[0], 'Embeddings changed dramatically! Consider setting lower start_apha and fewer epochs.'\n",
        "assert 'evolution' in list(zip(*finetuned_model.wv.most_similar('war', topn=50)))[0], 'Embeddings didn\\'t change as was expected! Consider setting higher start_apha and more epochs, check *total_examples* param.'\n",
        "\n",
        "print('Gratz!')"
      ],
      "metadata": {
        "colab": {
          "base_uri": "https://localhost:8080/"
        },
        "id": "ClPM4Nx-FENm",
        "outputId": "b8c67085-fefe-4cf8-fc35-02c63e9ebf02"
      },
      "execution_count": 23,
      "outputs": [
        {
          "output_type": "stream",
          "name": "stdout",
          "text": [
            "Gratz!\n"
          ]
        }
      ]
    },
    {
      "cell_type": "markdown",
      "source": [
        "In practice, you may want to experiment with different fine-tuning strategies e.g. varying the alpha parameter, training for more epochs, or even trying to \"freeze\" some embeddings while updating only certain parts of the vocabulary."
      ],
      "metadata": {
        "id": "GNNdvFcQNRIm"
      }
    },
    {
      "cell_type": "markdown",
      "source": [
        "# Implement a way to search similar quora questions given a new query (3 points)"
      ],
      "metadata": {
        "id": "dMY77szU6G6J"
      }
    },
    {
      "cell_type": "markdown",
      "source": [
        "## Straightforward numpy array-based search"
      ],
      "metadata": {
        "id": "fu8PJZxk6OtW"
      }
    },
    {
      "cell_type": "markdown",
      "source": [
        "Next, if we are to do a semantic search engine, it is required to be able to match a new sentence to a single vector. The easiest way to do so is to average individual word-level embeddings.\n",
        "\n",
        "Alternatively, you may try out pooling (min, max, mean, softmax) strategies and [TF-IDF](https://www.geeksforgeeks.org/understanding-tf-idf-term-frequency-inverse-document-frequency/) . TF-IDF approach requires to precalculate IDF scores across existing corpus and multiply by a TF for a given word in a given sentence.\n",
        "\n",
        "Also, it is expected that you will use cosine similarity as a vector distance metric later, so it might be a good idea to normalize all the vectors before putting them into a database since it will effectively turn a cosine similarity calculation into taking a dot product, which will speed the things up:\n",
        "$$\n",
        "cos(\\phi) = \\frac{<u, v>}{|u||v|}.\n",
        "$$"
      ],
      "metadata": {
        "id": "TmBNaucPb43q"
      }
    },
    {
      "cell_type": "code",
      "source": [
        "def normalize_vector(embedding: np.ndarray) -> np.ndarray:\n",
        "    \"\"\"\n",
        "    Normalizes a given vector to have unit length.\n",
        "\n",
        "    Args:\n",
        "        embedding (np.ndarray): A NumPy array representing the vector to normalize.\n",
        "\n",
        "    Returns:\n",
        "        np.ndarray: A normalized vector with unit length.\n",
        "    \"\"\"\n",
        "\n",
        "    <YOUR_CODE_HERE>\n",
        "\n",
        "    return embedding\n",
        "\n",
        "\n",
        "def get_text_embedding(text: str, model: FastText) -> np.ndarray:\n",
        "    \"\"\"\n",
        "    Computes the embedding for a given text using a pre-trained FastText model.\n",
        "    The embedding is the mean of word embeddings for words in the text, normalized to unit length.\n",
        "\n",
        "    Args:\n",
        "        text (str): The input text to embed.\n",
        "        model (FastText): The FastText model to use for generating embeddings.\n",
        "\n",
        "    Returns:\n",
        "        np.ndarray: The normalized embedding for the input text.\n",
        "                    If no valid words are found in the text, returns a zero vector.\n",
        "    \"\"\"\n",
        "\n",
        "    <YOUR_CODE_HERE>\n",
        "\n",
        "    return normalized_word_embedding\n"
      ],
      "metadata": {
        "id": "kohkQMO7T2O6"
      },
      "execution_count": 24,
      "outputs": []
    },
    {
      "cell_type": "code",
      "source": [
        "# Debugging and testing area\n",
        "question = \"Love peace\"\n",
        "text_embedding = get_text_embedding(question, finetuned_model)\n",
        "dummy_word_embedding = (finetuned_model.wv['love'] + finetuned_model.wv['peace']) / 2\n",
        "\n",
        "assert text_embedding.shape[0] == finetuned_model.wv.vector_size, \"Check axis along which values are aggregated\"\n",
        "assert all(normalize_vector(dummy_word_embedding) == text_embedding), \"You need to return a normalized mean embedding for now, nothing fancy!\"\n",
        "\n",
        "print('Good job!')"
      ],
      "metadata": {
        "colab": {
          "base_uri": "https://localhost:8080/"
        },
        "id": "bxgO1OC6g76i",
        "outputId": "7118cf82-8a3f-413a-9f72-04b5c72374c8"
      },
      "execution_count": 25,
      "outputs": [
        {
          "output_type": "stream",
          "name": "stdout",
          "text": [
            "Good job!\n"
          ]
        }
      ]
    },
    {
      "cell_type": "markdown",
      "source": [
        "Finally, let's implement a similar sentence search.\n",
        "\n",
        "Your task will be to match each quora question to an embedding and store these vectors in a way easy enough to conduct a search operation.\n",
        "\n",
        "In order this to look like a search engine, new user input should also be converted to an embedding in order to perform, well, a search in our existing embedding storage."
      ],
      "metadata": {
        "id": "feR2nwsPx_Hj"
      }
    },
    {
      "cell_type": "markdown",
      "source": [
        "First, let's do it in a straightforward way: create a numpy array where existing quora questions embeddings will be stored.\n",
        "\n",
        "Be sure to apply the same preprocessing we used during the model training!"
      ],
      "metadata": {
        "id": "SzBoJNuFzjuA"
      }
    },
    {
      "cell_type": "code",
      "source": [
        "def create_embeddings_storage(quora_file: str, model: FastText) -> np.ndarray:\n",
        "    \"\"\"\n",
        "    Creates a NumPy array of normalized embeddings for all questions in a dataset.\n",
        "\n",
        "    Each line in the input file represents a question, which is preprocessed using\n",
        "    'preprocess_line' function and embedded using 'get_text_embedding' function.\n",
        "\n",
        "    Args:\n",
        "        quora_file (str): Path to the file containing the preprocessed questions, one per line.\n",
        "        model (FastText): The FastText model used to generate embeddings.\n",
        "\n",
        "    Returns:\n",
        "        np.ndarray: A 2D NumPy array where each row corresponds to the normalized embedding\n",
        "                    of a question in the dataset. Shape: (num_questions, embedding_dim).\n",
        "    \"\"\"\n",
        "    embeddings_list: List[np.ndarray] = []\n",
        "\n",
        "    <YOUR_CODE_HERE>\n",
        "\n",
        "    # Convert the list of embeddings to a NumPy array\n",
        "    return np.array(embeddings_list)"
      ],
      "metadata": {
        "id": "zOg0BKJOSL1m"
      },
      "execution_count": 26,
      "outputs": []
    },
    {
      "cell_type": "code",
      "source": [
        "# Create a storage array for normalized embeddings\n",
        "embeddings_storage_np = create_embeddings_storage(\"quora_processed.txt\", finetuned_model)"
      ],
      "metadata": {
        "id": "pNR8KYpJI4V5"
      },
      "execution_count": 27,
      "outputs": []
    },
    {
      "cell_type": "code",
      "source": [
        "with open(quora_processed_file_path, 'r') as f:\n",
        "    for line in f:\n",
        "        test_embedding = get_text_embedding(line, finetuned_model)\n",
        "        break\n",
        "\n",
        "assert embeddings_storage_np.shape == (quora_sentences_count, finetuned_model.vector_size), \"The vector storage must be of size (num_quora_sentences, embedding_dim)\"\n",
        "assert embeddings_storage_np[0].mean() == test_embedding.mean(), 'Embedding of the first quora question does not correspond to the first enty in the storage!'\n",
        "print('Looking good so far!')"
      ],
      "metadata": {
        "colab": {
          "base_uri": "https://localhost:8080/"
        },
        "id": "SJlU0KJqWgr1",
        "outputId": "1e3e09c9-9098-45e9-bf16-f38869ab708d"
      },
      "execution_count": 28,
      "outputs": [
        {
          "output_type": "stream",
          "name": "stdout",
          "text": [
            "Looking good so far!\n"
          ]
        }
      ]
    },
    {
      "cell_type": "code",
      "source": [
        "def find_closest_match_np(query: str, model, embeddings_storage: np.ndarray, k: int = 1) -> Tuple[List[int], List[float]]:\n",
        "    \"\"\"\n",
        "    Finds the closest match(es) to a new question in the database using cosine similarity.\n",
        "\n",
        "    This function preprocesses the input question, calculates its embedding, and then computes\n",
        "    cosine similarities between the new question's embedding and a pre-existing database of embeddings.\n",
        "    It returns the indices of the top-k most similar questions along with their similarity scores.\n",
        "\n",
        "    Parameters:\n",
        "        query (str): The input question to be compared.\n",
        "        model: The trained FastText model used to generate word embeddings.\n",
        "        embeddings_storage (np.ndarray): A numpy array containing the precomputed and normalized embeddings of all questions in the database.\n",
        "        k (int, optional): The number of closest matches to return. Defaults to 1.\n",
        "\n",
        "    Returns:\n",
        "        Tuple[List[int], List[float]]:\n",
        "            - List[int]: A list of indices of the top-k most similar questions in the database.\n",
        "            - List[float]: A list of similarity scores corresponding to these top-k matches.\n",
        "    \"\"\"\n",
        "\n",
        "    # Preprocess the query and embed the question\n",
        "    <YOUR_CODE_HERE>\n",
        "\n",
        "    # Compute cosine similarity\n",
        "    # Dot product if the vectors are normalized embeddings\n",
        "    # You might want to look up np.dot\n",
        "    <YOUR_CODE_HERE>\n",
        "\n",
        "    # Get the indices of the top-k most similar questions\n",
        "    # You might want to look up np.argsort\n",
        "    <YOUR_CODE_HERE>\n",
        "\n",
        "    return top_k_indices, top_k_similarities\n"
      ],
      "metadata": {
        "id": "7aXP6AQUS2Gg"
      },
      "execution_count": 29,
      "outputs": []
    },
    {
      "cell_type": "markdown",
      "source": [
        "For now, we will store all the quora questions in RAM using a python list.\n",
        "\n",
        "In practice, you would consider a separate database with a retrieval by index done in constant time."
      ],
      "metadata": {
        "id": "wv_9fI1KaKH_"
      }
    },
    {
      "cell_type": "code",
      "source": [
        "# Store original questions for visual testing\n",
        "quora_questions_list = []\n",
        "with open(quora_raw_file_path, 'r') as file:\n",
        "    for line in file:\n",
        "        quora_questions_list.append(line.strip())\n",
        "\n",
        "print(f\"Total questions processed: {len(quora_questions_list)}\")"
      ],
      "metadata": {
        "colab": {
          "base_uri": "https://localhost:8080/"
        },
        "id": "zBgHNHsEZpQW",
        "outputId": "ede5add8-e385-4762-f197-f207edc6a937"
      },
      "execution_count": 30,
      "outputs": [
        {
          "output_type": "stream",
          "name": "stdout",
          "text": [
            "Total questions processed: 537272\n"
          ]
        }
      ]
    },
    {
      "cell_type": "code",
      "source": [
        "def fetch_and_display_closest_match(query_function: Callable[..., Tuple[List[int], List[float]]], **kwargs) -> Tuple[List[int], List[float]]:\n",
        "    \"\"\"\n",
        "    A utility function to fetch and display the closest matching questions\n",
        "    from the Quora dataset for a given query.\n",
        "\n",
        "    This function takes a query, uses the provided query function to retrieve\n",
        "    the top-k most similar questions, and prints them along with their similarity scores.\n",
        "\n",
        "    Args:\n",
        "        query_function (Callable): A function that takes query-related parameters and returns\n",
        "                                    the indices of the top-k most similar questions and their similarity scores.\n",
        "                                    It should return a tuple (List[int], List[float]).\n",
        "        **kwargs: Additional arguments to be passed to the query_function, including the query text.\n",
        "\n",
        "    Returns:\n",
        "        Tuple[List[int], List[float]]: A tuple containing:\n",
        "            - A list of indices corresponding to the top-k most similar questions in the dataset.\n",
        "            - A list of similarity scores for each of these questions.\n",
        "    \"\"\"\n",
        "\n",
        "    # Retrieve the top-k indices and their similarity scores from the query function\n",
        "    top_k_indices, top_k_similarities = query_function(**kwargs)\n",
        "\n",
        "    # Fetch the actual questions based on the retrieved indices\n",
        "    top_k_questions = [quora_questions_list[i] for i in top_k_indices]\n",
        "\n",
        "    # Print the query and the top-k results with their similarity scores\n",
        "    print(f\"Query: {kwargs['query']}\")\n",
        "    print(\"\\nTop Matches:\")\n",
        "    for i, (question, similarity) in enumerate(zip(top_k_questions, top_k_similarities), 1):\n",
        "        print(f\"{i}. {question} (Similarity: {similarity:.4f})\")\n",
        "\n",
        "    return top_k_indices, top_k_similarities\n"
      ],
      "metadata": {
        "id": "zjL1Jv_LdmfU"
      },
      "execution_count": 31,
      "outputs": []
    },
    {
      "cell_type": "code",
      "source": [
        "# testing area\n",
        "new_question = \"How can I find inner peace?\"\n",
        "\n",
        "top_k_indices, top_k_similarities = fetch_and_display_closest_match(query_function=find_closest_match_np,\n",
        "                                                                    query=new_question, model=finetuned_model,\n",
        "                                                                    embeddings_storage=embeddings_storage_np,\n",
        "                                                                    k=10)\n",
        "\n",
        "assert 446084 in top_k_indices, 'Your embeddings look odd. = ('"
      ],
      "metadata": {
        "colab": {
          "base_uri": "https://localhost:8080/"
        },
        "id": "DmSVUzWzam6O",
        "outputId": "fedac0e1-16b5-44db-95d0-813bcc1c6b49"
      },
      "execution_count": 32,
      "outputs": [
        {
          "output_type": "stream",
          "name": "stdout",
          "text": [
            "Query: How can I find inner peace?\n",
            "\n",
            "Top Matches:\n",
            "1. How can I create inner peace? (Similarity: 0.9925)\n",
            "2. How can I find a career mentor? (Similarity: 0.9918)\n",
            "3. How can I find passion? (Similarity: 0.9918)\n",
            "4. How can I find a successful mentor? (Similarity: 0.9912)\n",
            "5. How can I find a programmer mentor? (Similarity: 0.9904)\n",
            "6. How can I find inspiration? (Similarity: 0.9898)\n",
            "7. How can I prevent business failure? (Similarity: 0.9891)\n",
            "8. How can I find app developers? (Similarity: 0.9889)\n",
            "9. How can I find a JavaScript programmer mentor? (Similarity: 0.9888)\n",
            "10. How can I find a startup mentor? (Similarity: 0.9887)\n"
          ]
        }
      ]
    },
    {
      "cell_type": "markdown",
      "source": [
        "Please, feel free to play with your new search engine!"
      ],
      "metadata": {
        "id": "HjtzTuA4gnXN"
      }
    },
    {
      "cell_type": "code",
      "source": [
        "new_question = \"What is the future of artificial intelligence?\"\n",
        "\n",
        "_, _ = fetch_and_display_closest_match(query_function=find_closest_match_np,\n",
        "                                       query=new_question, model=finetuned_model,\n",
        "                                       embeddings_storage=embeddings_storage_np,\n",
        "                                       k=10)\n"
      ],
      "metadata": {
        "colab": {
          "base_uri": "https://localhost:8080/"
        },
        "id": "UTP7pViAgxBk",
        "outputId": "43679e64-2a65-447b-f7d2-c6c32501aa93"
      },
      "execution_count": 33,
      "outputs": [
        {
          "output_type": "stream",
          "name": "stdout",
          "text": [
            "Query: What is the future of artificial intelligence?\n",
            "\n",
            "Top Matches:\n",
            "1. What is the future of artificial intelligence? (Similarity: 1.0000)\n",
            "2. What is the scope of Artificial Intelligence? (Similarity: 0.9976)\n",
            "3. What is the future of Social Media? (Similarity: 0.9968)\n",
            "4. What is the future of Pharmaceutical industry? (Similarity: 0.9968)\n",
            "5. What is the future of Chinese economy? (Similarity: 0.9967)\n",
            "6. What is the future of internet piracy? (Similarity: 0.9967)\n",
            "7. What is the indefinite integral of [math]\\sin (x^3)[/math] ? (Similarity: 0.9966)\n",
            "8. What is the future of virtual reality? (Similarity: 0.9964)\n",
            "9. What is the nature of public administration? (Similarity: 0.9963)\n",
            "10. What is the future of chemical engineering? (Similarity: 0.9963)\n"
          ]
        }
      ]
    },
    {
      "cell_type": "code",
      "source": [
        "import time\n",
        "\n",
        "iterations = 100\n",
        "\n",
        "start_time = time.time()\n",
        "\n",
        "for _ in range(iterations):\n",
        "    _, _ = find_closest_match_np('hello there', finetuned_model, embeddings_storage_np, k=10)\n",
        "\n",
        "time_elapsed = time.time() - start_time\n",
        "average_time = time_elapsed / iterations\n",
        "\n",
        "print(f'Time elapsed: {time_elapsed:.4f} seconds.')\n",
        "print(f'Average time: {average_time:.4f} seconds.')"
      ],
      "metadata": {
        "colab": {
          "base_uri": "https://localhost:8080/"
        },
        "id": "72lRXN_Hcd7W",
        "outputId": "56f13280-5572-4198-8b3d-2336d085b287"
      },
      "execution_count": 34,
      "outputs": [
        {
          "output_type": "stream",
          "name": "stdout",
          "text": [
            "Time elapsed: 12.0655 seconds.\n",
            "Average time: 0.1207 seconds.\n"
          ]
        }
      ]
    },
    {
      "cell_type": "markdown",
      "source": [
        "Please note that in practice frequent queries will be cached."
      ],
      "metadata": {
        "id": "chneE_4sjlJk"
      }
    },
    {
      "cell_type": "markdown",
      "source": [
        "# Vector database search"
      ],
      "metadata": {
        "id": "yxd0oibM62YF"
      }
    },
    {
      "cell_type": "markdown",
      "source": [
        "However, the main concern is that often your data will be too large to fit into RAM, let alone VRAM, so an option better than numpy array search is needed. Also, we can not afford to spend O(n) search time for each request.\n",
        "\n",
        "Vector databases i.e. databases specifically designed to store vectors and conduct fast retrieval operations solve the speed problem at the expense of having to keep the storage in RAM. In practice, a collections of machines (shards) may host different chunks of data in an interconnected way.\n",
        "\n",
        "Below is an already implemented way of building an embedding storage. You may want to look it through carefully.\n",
        "\n",
        "You can read more about [FAISS](https://faiss.ai/index.html) library and [HNSW](https://arxiv.org/abs/1603.09320), which is, in short, a k-nearest neighbors search on steroids."
      ],
      "metadata": {
        "id": "RgQd-D0dKhUo"
      }
    },
    {
      "cell_type": "code",
      "source": [
        "def build_faiss_hnsw_index(dimension: int, ef_construction: int = 200, M: int = 32) -> faiss.IndexHNSWFlat:\n",
        "    \"\"\"\n",
        "    Builds a FAISS HNSW index for cosine similarity.\n",
        "\n",
        "    This function initializes a HNSW (Hierarchical Navigable Small World) index for efficient approximate nearest neighbor search\n",
        "    based on cosine similarity, using the FastText model's normalized embeddings.\n",
        "\n",
        "    Parameters:\n",
        "        dimension (int): Dimensionality of the embeddings (size of each vector).\n",
        "        ef_construction (int, optional): Trade-off parameter between index construction speed and accuracy. Default is 200.\n",
        "        M (int, optional): Number of neighbors in the graph, controlling the memory and accuracy tradeoff. Default is 32.\n",
        "\n",
        "    Returns:\n",
        "        index (faiss.IndexHNSWFlat): Initialized FAISS HNSW index.\n",
        "    \"\"\"\n",
        "    index = faiss.IndexHNSWFlat(dimension, M)  # HNSW index\n",
        "    index.hnsw.efConstruction = ef_construction  # Construction accuracy\n",
        "    index.metric_type = faiss.METRIC_INNER_PRODUCT  # Cosine similarity via normalized vectors\n",
        "    return index\n",
        "\n",
        "\n",
        "def populate_faiss_index(index: faiss.Index, model, dataset_path: str, batch_size: int = 10000):\n",
        "    \"\"\"\n",
        "    Populates the FAISS HNSW index with normalized embeddings from the dataset.\n",
        "\n",
        "    This function reads the dataset line by line, preprocesses each question, computes its embedding,\n",
        "    and adds the embeddings to the FAISS index in batches.\n",
        "\n",
        "    Parameters:\n",
        "        index (faiss.Index): FAISS index to populate.\n",
        "        model: Trained FastText model used to generate embeddings.\n",
        "        dataset_path (str): Path to the dataset file (one question per line).\n",
        "        batch_size (int, optional): Number of questions to process at a time. Default is 10000.\n",
        "    \"\"\"\n",
        "    with open(dataset_path, \"r\") as f:\n",
        "        buffer = []\n",
        "        for line in f:\n",
        "            # Preprocess the line and get its embedding\n",
        "            question = preprocess_line(line.strip())\n",
        "            embedding = get_text_embedding(question, model)\n",
        "            buffer.append(embedding)\n",
        "\n",
        "            # Add embeddings to the index in batches\n",
        "            if len(buffer) >= batch_size:\n",
        "                index.add(np.array(buffer, dtype=np.float32))\n",
        "                buffer = []  # Clear the buffer after adding\n",
        "\n",
        "        # Add remaining embeddings (if any) after loop finishes\n",
        "        if buffer:\n",
        "            index.add(np.array(buffer, dtype=np.float32))\n",
        "\n",
        "\n",
        "def search_faiss_index(embeddings_storage: faiss.Index, query: str, model, k: int = 5) -> Tuple[List[int], List[float]]:\n",
        "    \"\"\"\n",
        "    Searches the FAISS index for the closest matches to a query.\n",
        "\n",
        "    This function computes the embedding for the input query, searches the FAISS index for the most similar questions,\n",
        "    and returns the indices and distances (cosine similarity) of the top-k matches.\n",
        "\n",
        "    Parameters:\n",
        "        embeddings_storage (faiss.Index): FAISS index to search.\n",
        "        query (str): The input query string to search for.\n",
        "        model: Trained FastText model used to generate embeddings.\n",
        "        k (int, optional): Number of closest matches to retrieve. Default is 5.\n",
        "\n",
        "    Returns:\n",
        "        Tuple[List[int], List[float]]:\n",
        "            - List[int]: A list of indices of the top-k most similar questions.\n",
        "            - List[float]: A list of distances (cosine similarity) of the top-k results.\n",
        "    \"\"\"\n",
        "    # Preprocess and normalize the query embedding\n",
        "    query_embedding = get_text_embedding(query, model)\n",
        "\n",
        "    # Search the embeddings_storage (FAISS index)\n",
        "    top_k_distances, top_k_indices = embeddings_storage.search(np.array([query_embedding], dtype=np.float32), k)\n",
        "\n",
        "    # Match return format with that used in numpy storage search\n",
        "    top_k_indices_list = top_k_indices[0].tolist()\n",
        "    top_k_distances_list = top_k_distances[0].tolist()\n",
        "\n",
        "    return top_k_indices_list, top_k_distances_list\n"
      ],
      "metadata": {
        "id": "JBw4-UpywHUS"
      },
      "execution_count": 35,
      "outputs": []
    },
    {
      "cell_type": "markdown",
      "source": [
        "Building a faiss may take some time, it's ok. In some sense, we trade computations during index constuction for query time later."
      ],
      "metadata": {
        "id": "3jyc6V3LyHkq"
      }
    },
    {
      "cell_type": "code",
      "source": [
        "# Define the dimensions of the embedding vectors\n",
        "embedding_dimension = finetuned_model.vector_size  # Depends on the FastText model\n",
        "\n",
        "# Build the HNSW index\n",
        "hnsw_index = build_faiss_hnsw_index(embedding_dimension)\n",
        "\n",
        "# Populate the index from the quora_processed.txt dataset\n",
        "populate_faiss_index(hnsw_index, finetuned_model, \"quora_processed.txt\")\n"
      ],
      "metadata": {
        "id": "JdcPB-XRw-RE"
      },
      "execution_count": 36,
      "outputs": []
    },
    {
      "cell_type": "markdown",
      "source": [
        "Note that we built a FAISS index around Euclidian distance, not cosine similarity, to be completely honest:\n",
        "\n",
        "$$\n",
        "cosine \\space similarity = 1 - \\frac{euclidian \\space distance^2}{2}\n",
        "$$"
      ],
      "metadata": {
        "id": "5UnCFwTz5-3x"
      }
    },
    {
      "cell_type": "markdown",
      "source": [
        "Note that the results obtained may not entirely repeat a numpy-based search since HNSW index is built upon approximate computations."
      ],
      "metadata": {
        "id": "UZGDk2Pc9brd"
      }
    },
    {
      "cell_type": "code",
      "source": [
        "# Example query\n",
        "query_text = \"How can I find inner peace?\"\n",
        "\n",
        "top_k_indices, top_k_similarities = fetch_and_display_closest_match(query_function=search_faiss_index,\n",
        "                                                                    query=query_text, model=finetuned_model,\n",
        "                                                                    embeddings_storage=hnsw_index,\n",
        "                                                                    k=10)"
      ],
      "metadata": {
        "colab": {
          "base_uri": "https://localhost:8080/"
        },
        "id": "vxEXNNtexQOo",
        "outputId": "bd2bfb01-2e80-4cab-f88d-6e4dbd11bfbc"
      },
      "execution_count": 37,
      "outputs": [
        {
          "output_type": "stream",
          "name": "stdout",
          "text": [
            "Query: How can I find inner peace?\n",
            "\n",
            "Top Matches:\n",
            "1. How can I find a career mentor? (Similarity: -0.0164)\n",
            "2. How can I find passion? (Similarity: -0.0165)\n",
            "3. How can I find a successful mentor? (Similarity: -0.0177)\n",
            "4. How can I find a programmer mentor? (Similarity: -0.0193)\n",
            "5. How can I find inspiration? (Similarity: -0.0205)\n",
            "6. How can I prevent business failure? (Similarity: -0.0218)\n",
            "7. How can I find app developers? (Similarity: -0.0222)\n",
            "8. How can I find a JavaScript programmer mentor? (Similarity: -0.0223)\n",
            "9. How can I find a startup mentor? (Similarity: -0.0225)\n",
            "10. How can I find a perfect co-founder? (Similarity: -0.0228)\n"
          ]
        }
      ]
    },
    {
      "cell_type": "code",
      "source": [
        "import time\n",
        "\n",
        "iterations = 100\n",
        "\n",
        "start_time = time.time()\n",
        "\n",
        "for _ in range(iterations):\n",
        "    _, _ = search_faiss_index(hnsw_index, query_text, finetuned_model, k=10)\n",
        "\n",
        "time_elapsed = time.time() - start_time\n",
        "average_time = time_elapsed / iterations\n",
        "\n",
        "print(f'Time elapsed: {time_elapsed:.4f} seconds.')\n",
        "print(f'Average time: {average_time:.4f} seconds.')"
      ],
      "metadata": {
        "colab": {
          "base_uri": "https://localhost:8080/"
        },
        "id": "EYAdJNkO4dGA",
        "outputId": "41a4e358-9239-45cf-947f-7b25dcc70e12"
      },
      "execution_count": 38,
      "outputs": [
        {
          "output_type": "stream",
          "name": "stdout",
          "text": [
            "Time elapsed: 0.0199 seconds.\n",
            "Average time: 0.0002 seconds.\n"
          ]
        }
      ]
    },
    {
      "cell_type": "markdown",
      "source": [
        "Note that we achieved a two orders of magnitude speed-up!"
      ],
      "metadata": {
        "id": "mFmyOsoC6qez"
      }
    },
    {
      "cell_type": "markdown",
      "source": [
        "What to do next?\n",
        "\n",
        "As far as embeddings are concerned, you might want to improve how a single word embedding is obtained or introduce individual embeddings weighings with e.g. TF-IDF. Further in the course, you will learn better (yet substantially computationally heavy) ways to represent an arbitrary text other than aggregating standalone vectors. However, word-level embeddings are still a decent option if computational resources are limited.\n",
        "\n",
        "As far as query engine is concerned, caching is a great option to get rid of redundant queries. For example, take a look at [Redis](https://redis.io/learn/howtos/solutions/microservices/caching)."
      ],
      "metadata": {
        "id": "FkItnFGLmY2Z"
      }
    }
  ],
  "metadata": {
    "colab": {
      "provenance": []
    },
    "kernelspec": {
      "display_name": "Python 3",
      "language": "python",
      "name": "python3"
    },
    "language_info": {
      "codemirror_mode": {
        "name": "ipython",
        "version": 3
      },
      "file_extension": ".py",
      "mimetype": "text/x-python",
      "name": "python",
      "nbconvert_exporter": "python",
      "pygments_lexer": "ipython3",
      "version": "3.5.2"
    }
  },
  "nbformat": 4,
  "nbformat_minor": 0
}